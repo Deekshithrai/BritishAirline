{
 "cells": [
  {
   "cell_type": "code",
   "execution_count": 4,
   "id": "53c4f30b",
   "metadata": {},
   "outputs": [],
   "source": [
    "import requests\n",
    "from bs4 import BeautifulSoup\n",
    "import pandas as pd"
   ]
  },
  {
   "cell_type": "code",
   "execution_count": 2,
   "id": "7c68caf0",
   "metadata": {},
   "outputs": [
    {
     "name": "stdout",
     "output_type": "stream",
     "text": [
      "Scraping page 1\n",
      "   ---> 100 total reviews\n",
      "Scraping page 2\n",
      "   ---> 200 total reviews\n",
      "Scraping page 3\n",
      "   ---> 300 total reviews\n",
      "Scraping page 4\n",
      "   ---> 400 total reviews\n",
      "Scraping page 5\n",
      "   ---> 500 total reviews\n",
      "Scraping page 6\n",
      "   ---> 600 total reviews\n",
      "Scraping page 7\n",
      "   ---> 700 total reviews\n",
      "Scraping page 8\n",
      "   ---> 800 total reviews\n",
      "Scraping page 9\n",
      "   ---> 900 total reviews\n",
      "Scraping page 10\n",
      "   ---> 1000 total reviews\n"
     ]
    }
   ],
   "source": [
    "base_url = \"https://www.airlinequality.com/airline-reviews/british-airways\"\n",
    "pages = 10\n",
    "page_size = 100\n",
    "\n",
    "reviews = []\n",
    "\n",
    "\n",
    "for i in range(1, pages + 1):\n",
    "\n",
    "    print(f\"Scraping page {i}\")\n",
    "\n",
    "    \n",
    "    url = f\"{base_url}/page/{i}/?sortby=post_date%3ADesc&pagesize={page_size}\"\n",
    "\n",
    "    \n",
    "    response = requests.get(url)\n",
    "\n",
    "            \n",
    "    content = response.content\n",
    "    parsed_content = BeautifulSoup(content, 'html.parser')\n",
    "    for para in parsed_content.find_all(\"div\", {\"class\": \"text_content\"}):\n",
    "        reviews.append(para.get_text())\n",
    "    \n",
    "    print(f\"   ---> {len(reviews)} total reviews\")"
   ]
  },
  {
   "cell_type": "code",
   "execution_count": 29,
   "id": "4fc0196e",
   "metadata": {},
   "outputs": [
    {
     "data": {
      "text/html": [
       "<div>\n",
       "<style scoped>\n",
       "    .dataframe tbody tr th:only-of-type {\n",
       "        vertical-align: middle;\n",
       "    }\n",
       "\n",
       "    .dataframe tbody tr th {\n",
       "        vertical-align: top;\n",
       "    }\n",
       "\n",
       "    .dataframe thead th {\n",
       "        text-align: right;\n",
       "    }\n",
       "</style>\n",
       "<table border=\"1\" class=\"dataframe\">\n",
       "  <thead>\n",
       "    <tr style=\"text-align: right;\">\n",
       "      <th></th>\n",
       "      <th>reviews</th>\n",
       "    </tr>\n",
       "  </thead>\n",
       "  <tbody>\n",
       "    <tr>\n",
       "      <th>0</th>\n",
       "      <td>✅ Trip Verified | Worst BA experience. I was supposed to fly out to Italy on 7 September 2023. I arrived at OR Tambo International airport ready to check my bags in (I already checked-in online the previous evening so I had my boarding pass ready). At the counter I was told that I had been off-loaded from the flight as my connecting flight has been cancelled. No information was sent regarding this beforehand. The team at the check-in counter tried to get me on another flight that evening, but there were no flights available. They did manage to get me another flight the following evening with Lufthansa to Italy via Frankfurt. However, I did miss the first part of my trip having arrived a day and a half later than I was supposed to. Upon moving the flights I did ask the BA staff whether my flights back are still valid and that everything is in order, which they assured me is correct. I have to fly back to South Africa on 18 September and upon checking my booking information I noticed on my BA account that my first flight (Milan to London) is just missing from my booking. My connecting from London to Johannesburg is still there. After spending the entire morning on the customer helpline two different operators picked up and in both instances, the moment I proceed to give my booking reference number, my call gets dropped. Currently it seems like I will be arriving at the airport again on Monday without a flight.</td>\n",
       "    </tr>\n",
       "    <tr>\n",
       "      <th>1</th>\n",
       "      <td>✅ Trip Verified |  My daughter and I were denied boarding on our business class flight from Madrid to Heathrow in March 25, 2023, the first leg on our return flight to Victoria, Canada. No reason was given for the denied boarding by the check in staff at the British Airways counter in Madrid, who said they were only agents and told us to call British Airways. We were three hours early for the flight and had valid passports. After many tries we finally reached British Airways by phone, but we were told to call Expedia which had booked the flights. Expedia confirmed that we had been bumped from the flight, with no explanation as to why. Expedia then began a long process of finding alternative flights. Over the next 24 hours we had numerous calls with both Expedia and British Airways. Incredibly, the next available flights were 9 days later on April 3. This was almost unbelievable, but after many many tries it was the best we could do. Even though these were Business Class tickets. Part of the problem was that apparently rules did not allow any changes to routing for any segment of the flight. This nine day delay was a major problem for us. I had to miss work and my daughter was missing school. Further, we received no compensation from British Airways, no penalty fee, and not any reimbursement of our expenses for staying the nine extra days. After our return I began the British Airways online complaint process, and submitted all supporting documents. I received an email reply and a case reference number. And then nothing. I sent numerous follow up emails, and received no replies. It is now months later, and still I have not heard from British Airways. This is shocking, and definitely the worst airline service I have received for my thousands of flights over many decades. I am a very patient person and this is the first time I have commented on this type of forum. I think the public should be made aware of extremely poor customer service at British Airways.</td>\n",
       "    </tr>\n",
       "    <tr>\n",
       "      <th>2</th>\n",
       "      <td>✅ Trip Verified | Despite boarding being the usual free for all at LHR with groups 1-3 being called to board all at once. Whilst those passengers who had agreed to check in a bag in at the gate, getting to board before anyone else! However, the service on board was impeccable. Superb crew, friendly, attentive, interacting with passengers and generally appearing to be enjoying their job. Like BA in the old days and at its best. Food choice and quality seems to have improved too (no beef cheeks thankfully) and even the Club kitchen appears to have returned. Old style Club seating, but is at least better, and feels less cramped, on the 787's.</td>\n",
       "    </tr>\n",
       "    <tr>\n",
       "      <th>3</th>\n",
       "      <td>Not Verified |  Flight cancelled, no crew! 9th September 2023, not peak holiday period so why such bad management by BA? Sent to the gate left standing of over and hour and then flight cancelled. As were other on that day. Why does BA continue to provide such poor service - a national disgrace.</td>\n",
       "    </tr>\n",
       "    <tr>\n",
       "      <th>4</th>\n",
       "      <td>Not Verified |  The worst service ever, my baggage did not arrive on time. Both my flights were delayed. I will never fly them again.  Even the food was bad and your service.</td>\n",
       "    </tr>\n",
       "  </tbody>\n",
       "</table>\n",
       "</div>"
      ],
      "text/plain": [
       "                                                                                                                                                                                                                                                                                                                                                                                                                                                                                                                                                                                                                                                                                                                                                                                                                                                                                                                                                                                                                                                                                                                                                                                                                                                                                                                                                                                                                                                                                                                                                                                                                                                                                                                                                                                                                                                                                                                                                                                                                                                               reviews\n",
       "0                                                                                                                                                                                                                                                                                                                                                                                                                                                                                                                                                                              ✅ Trip Verified | Worst BA experience. I was supposed to fly out to Italy on 7 September 2023. I arrived at OR Tambo International airport ready to check my bags in (I already checked-in online the previous evening so I had my boarding pass ready). At the counter I was told that I had been off-loaded from the flight as my connecting flight has been cancelled. No information was sent regarding this beforehand. The team at the check-in counter tried to get me on another flight that evening, but there were no flights available. They did manage to get me another flight the following evening with Lufthansa to Italy via Frankfurt. However, I did miss the first part of my trip having arrived a day and a half later than I was supposed to. Upon moving the flights I did ask the BA staff whether my flights back are still valid and that everything is in order, which they assured me is correct. I have to fly back to South Africa on 18 September and upon checking my booking information I noticed on my BA account that my first flight (Milan to London) is just missing from my booking. My connecting from London to Johannesburg is still there. After spending the entire morning on the customer helpline two different operators picked up and in both instances, the moment I proceed to give my booking reference number, my call gets dropped. Currently it seems like I will be arriving at the airport again on Monday without a flight.\n",
       "1  ✅ Trip Verified |  My daughter and I were denied boarding on our business class flight from Madrid to Heathrow in March 25, 2023, the first leg on our return flight to Victoria, Canada. No reason was given for the denied boarding by the check in staff at the British Airways counter in Madrid, who said they were only agents and told us to call British Airways. We were three hours early for the flight and had valid passports. After many tries we finally reached British Airways by phone, but we were told to call Expedia which had booked the flights. Expedia confirmed that we had been bumped from the flight, with no explanation as to why. Expedia then began a long process of finding alternative flights. Over the next 24 hours we had numerous calls with both Expedia and British Airways. Incredibly, the next available flights were 9 days later on April 3. This was almost unbelievable, but after many many tries it was the best we could do. Even though these were Business Class tickets. Part of the problem was that apparently rules did not allow any changes to routing for any segment of the flight. This nine day delay was a major problem for us. I had to miss work and my daughter was missing school. Further, we received no compensation from British Airways, no penalty fee, and not any reimbursement of our expenses for staying the nine extra days. After our return I began the British Airways online complaint process, and submitted all supporting documents. I received an email reply and a case reference number. And then nothing. I sent numerous follow up emails, and received no replies. It is now months later, and still I have not heard from British Airways. This is shocking, and definitely the worst airline service I have received for my thousands of flights over many decades. I am a very patient person and this is the first time I have commented on this type of forum. I think the public should be made aware of extremely poor customer service at British Airways.\n",
       "2                                                                                                                                                                                                                                                                                                                                                                                                                                                                                                                                                                                                                                                                                                                                                                                                                                                                                                                                                                                                                                                                                                                                                                                                                                                                                                                                                                                              ✅ Trip Verified | Despite boarding being the usual free for all at LHR with groups 1-3 being called to board all at once. Whilst those passengers who had agreed to check in a bag in at the gate, getting to board before anyone else! However, the service on board was impeccable. Superb crew, friendly, attentive, interacting with passengers and generally appearing to be enjoying their job. Like BA in the old days and at its best. Food choice and quality seems to have improved too (no beef cheeks thankfully) and even the Club kitchen appears to have returned. Old style Club seating, but is at least better, and feels less cramped, on the 787's.\n",
       "3                                                                                                                                                                                                                                                                                                                                                                                                                                                                                                                                                                                                                                                                                                                                                                                                                                                                                                                                                                                                                                                                                                                                                                                                                                                                                                                                                                                                                                                                                                                                                                                                                                                                                                                                                              Not Verified |  Flight cancelled, no crew! 9th September 2023, not peak holiday period so why such bad management by BA? Sent to the gate left standing of over and hour and then flight cancelled. As were other on that day. Why does BA continue to provide such poor service - a national disgrace.\n",
       "4                                                                                                                                                                                                                                                                                                                                                                                                                                                                                                                                                                                                                                                                                                                                                                                                                                                                                                                                                                                                                                                                                                                                                                                                                                                                                                                                                                                                                                                                                                                                                                                                                                                                                                                                                                                                                                                                                       Not Verified |  The worst service ever, my baggage did not arrive on time. Both my flights were delayed. I will never fly them again.  Even the food was bad and your service."
      ]
     },
     "execution_count": 29,
     "metadata": {},
     "output_type": "execute_result"
    }
   ],
   "source": [
    "df = pd.DataFrame()\n",
    "df[\"reviews\"] = reviews\n",
    "df.head()"
   ]
  },
  {
   "cell_type": "code",
   "execution_count": 6,
   "id": "02eb2563",
   "metadata": {},
   "outputs": [],
   "source": [
    "df.to_csv(\"C:\\\\Users\\\\ASUS\\\\OneDrive\\\\Desktop\\\\ba\\\\BA_reviews.csv\")"
   ]
  },
  {
   "cell_type": "code",
   "execution_count": 6,
   "id": "18046cbc",
   "metadata": {},
   "outputs": [],
   "source": [
    "df=pd.read_csv(\"C:\\\\Users\\\\ASUS\\\\OneDrive\\\\Desktop\\\\ba\\\\BA_reviews.csv\")"
   ]
  },
  {
   "cell_type": "code",
   "execution_count": 7,
   "id": "88f20552",
   "metadata": {},
   "outputs": [
    {
     "data": {
      "text/html": [
       "<div>\n",
       "<style scoped>\n",
       "    .dataframe tbody tr th:only-of-type {\n",
       "        vertical-align: middle;\n",
       "    }\n",
       "\n",
       "    .dataframe tbody tr th {\n",
       "        vertical-align: top;\n",
       "    }\n",
       "\n",
       "    .dataframe thead th {\n",
       "        text-align: right;\n",
       "    }\n",
       "</style>\n",
       "<table border=\"1\" class=\"dataframe\">\n",
       "  <thead>\n",
       "    <tr style=\"text-align: right;\">\n",
       "      <th></th>\n",
       "      <th>Unnamed: 0</th>\n",
       "      <th>reviews</th>\n",
       "    </tr>\n",
       "  </thead>\n",
       "  <tbody>\n",
       "    <tr>\n",
       "      <th>0</th>\n",
       "      <td>0</td>\n",
       "      <td>✅ Trip Verified | Worst BA experience. I was s...</td>\n",
       "    </tr>\n",
       "    <tr>\n",
       "      <th>1</th>\n",
       "      <td>1</td>\n",
       "      <td>✅ Trip Verified |  My daughter and I were deni...</td>\n",
       "    </tr>\n",
       "    <tr>\n",
       "      <th>2</th>\n",
       "      <td>2</td>\n",
       "      <td>✅ Trip Verified | Despite boarding being the u...</td>\n",
       "    </tr>\n",
       "    <tr>\n",
       "      <th>3</th>\n",
       "      <td>3</td>\n",
       "      <td>Not Verified |  Flight cancelled, no crew! 9th...</td>\n",
       "    </tr>\n",
       "    <tr>\n",
       "      <th>4</th>\n",
       "      <td>4</td>\n",
       "      <td>Not Verified |  The worst service ever, my bag...</td>\n",
       "    </tr>\n",
       "    <tr>\n",
       "      <th>5</th>\n",
       "      <td>5</td>\n",
       "      <td>✅ Trip Verified |  4/4 flights we booked this ...</td>\n",
       "    </tr>\n",
       "    <tr>\n",
       "      <th>6</th>\n",
       "      <td>6</td>\n",
       "      <td>✅ Trip Verified |  British Airways has a total...</td>\n",
       "    </tr>\n",
       "    <tr>\n",
       "      <th>7</th>\n",
       "      <td>7</td>\n",
       "      <td>✅ Trip Verified | London Heathrow to Keflavik,...</td>\n",
       "    </tr>\n",
       "    <tr>\n",
       "      <th>8</th>\n",
       "      <td>8</td>\n",
       "      <td>✅ Trip Verified | Mumbai to London Heathrow in...</td>\n",
       "    </tr>\n",
       "    <tr>\n",
       "      <th>9</th>\n",
       "      <td>9</td>\n",
       "      <td>✅ Trip Verified |  Care and support shocking. ...</td>\n",
       "    </tr>\n",
       "  </tbody>\n",
       "</table>\n",
       "</div>"
      ],
      "text/plain": [
       "   Unnamed: 0                                            reviews\n",
       "0           0  ✅ Trip Verified | Worst BA experience. I was s...\n",
       "1           1  ✅ Trip Verified |  My daughter and I were deni...\n",
       "2           2  ✅ Trip Verified | Despite boarding being the u...\n",
       "3           3  Not Verified |  Flight cancelled, no crew! 9th...\n",
       "4           4  Not Verified |  The worst service ever, my bag...\n",
       "5           5  ✅ Trip Verified |  4/4 flights we booked this ...\n",
       "6           6  ✅ Trip Verified |  British Airways has a total...\n",
       "7           7  ✅ Trip Verified | London Heathrow to Keflavik,...\n",
       "8           8  ✅ Trip Verified | Mumbai to London Heathrow in...\n",
       "9           9  ✅ Trip Verified |  Care and support shocking. ..."
      ]
     },
     "execution_count": 7,
     "metadata": {},
     "output_type": "execute_result"
    }
   ],
   "source": [
    "df.head(10)"
   ]
  },
  {
   "cell_type": "code",
   "execution_count": 8,
   "id": "2c8dbe8a",
   "metadata": {
    "scrolled": true
   },
   "outputs": [
    {
     "data": {
      "text/plain": [
       "Unnamed: 0    0\n",
       "reviews       0\n",
       "dtype: int64"
      ]
     },
     "execution_count": 8,
     "metadata": {},
     "output_type": "execute_result"
    }
   ],
   "source": [
    "df.isna().sum()"
   ]
  },
  {
   "cell_type": "code",
   "execution_count": 9,
   "id": "704ba0c3",
   "metadata": {},
   "outputs": [],
   "source": [
    "from nltk.corpus import stopwords\n",
    "from nltk.stem import WordNetLemmatizer"
   ]
  },
  {
   "cell_type": "code",
   "execution_count": 10,
   "id": "e3e020a4",
   "metadata": {},
   "outputs": [],
   "source": [
    "import re"
   ]
  },
  {
   "cell_type": "code",
   "execution_count": 11,
   "id": "f0b4e305",
   "metadata": {},
   "outputs": [],
   "source": [
    "def clean_text(text):\n",
    "    text=text.lower()\n",
    "    text=re.sub(r'[^a-zA-z0-9\\s]','',text)\n",
    "    text=\" \".join(text.split())\n",
    "    words=text.split()\n",
    "    stop_words = set(stopwords.words('english'))\n",
    "    words = [word for word in words if word not in stop_words]\n",
    "    lemmatizer = WordNetLemmatizer()\n",
    "    words = [lemmatizer.lemmatize(word) for word in words]\n",
    "    cleaned_text = ' '.join(words)\n",
    "    return cleaned_text"
   ]
  },
  {
   "cell_type": "code",
   "execution_count": 12,
   "id": "821111da",
   "metadata": {},
   "outputs": [],
   "source": [
    "df['cleaned_reviews'] = df['reviews'].apply(clean_text)"
   ]
  },
  {
   "cell_type": "code",
   "execution_count": 13,
   "id": "17e0ac01",
   "metadata": {},
   "outputs": [],
   "source": [
    "pd.set_option('display.max_colwidth', None)"
   ]
  },
  {
   "cell_type": "code",
   "execution_count": 14,
   "id": "c66008dd",
   "metadata": {},
   "outputs": [
    {
     "data": {
      "text/plain": [
       "Index(['Unnamed: 0', 'reviews', 'cleaned_reviews'], dtype='object')"
      ]
     },
     "execution_count": 14,
     "metadata": {},
     "output_type": "execute_result"
    }
   ],
   "source": [
    "df.columns"
   ]
  },
  {
   "cell_type": "code",
   "execution_count": 15,
   "id": "d254924c",
   "metadata": {},
   "outputs": [],
   "source": [
    "from nltk.sentiment.vader import SentimentIntensityAnalyzer\n",
    "sia = SentimentIntensityAnalyzer()\n",
    "df['sentiment'] = df['cleaned_reviews'].apply(lambda x: sia.polarity_scores(x)['compound'])\n",
    "df['sentiment_category'] = df['sentiment'].apply(lambda x: 'Positive' if x > 0 else ('Negative' if x < 0 else 'Neutral'))"
   ]
  },
  {
   "cell_type": "code",
   "execution_count": 16,
   "id": "f3f0f917",
   "metadata": {},
   "outputs": [
    {
     "name": "stdout",
     "output_type": "stream",
     "text": [
      "sentiment_category\n",
      "Positive    571\n",
      "Negative    423\n",
      "Neutral       6\n",
      "Name: count, dtype: int64\n"
     ]
    }
   ],
   "source": [
    "sentiment_distribution = df['sentiment_category'].value_counts()\n",
    "print(sentiment_distribution)"
   ]
  },
  {
   "cell_type": "code",
   "execution_count": 17,
   "id": "6e5240da",
   "metadata": {
    "scrolled": false
   },
   "outputs": [
    {
     "data": {
      "image/png": "[encoded data removed]",
      "text/plain": [
       "<Figure size 800x600 with 1 Axes>"
      ]
     },
     "metadata": {},
     "output_type": "display_data"
    }
   ],
   "source": [
    "import matplotlib.pyplot as plt\n",
    "\n",
    "plt.figure(figsize=(8, 6))\n",
    "sentiment_distribution.plot(kind='bar', color=['green', 'red', 'gray'])\n",
    "plt.title('Sentiment Distribution')\n",
    "plt.xlabel('Sentiment Category')\n",
    "plt.ylabel('Count')\n",
    "plt.show()"
   ]
  },
  {
   "cell_type": "code",
   "execution_count": 18,
   "id": "8418a831",
   "metadata": {},
   "outputs": [
    {
     "data": {
      "text/plain": [
       "(57.099999999999994, 42.3, 0.6)"
      ]
     },
     "execution_count": 18,
     "metadata": {},
     "output_type": "execute_result"
    }
   ],
   "source": [
    "total_reviews = len(df)\n",
    "\n",
    "positive_percentage = (sentiment_distribution['Positive'] / total_reviews) * 100\n",
    "negative_percentage = (sentiment_distribution['Negative'] / total_reviews) * 100\n",
    "neutral_percentage = (sentiment_distribution['Neutral'] / total_reviews) * 100\n",
    "positive_percentage, negative_percentage, neutral_percentage"
   ]
  },
  {
   "cell_type": "code",
   "execution_count": 26,
   "id": "56e194b9",
   "metadata": {
    "scrolled": true
   },
   "outputs": [
    {
     "data": {
      "image/png": "[encoded data removed]",
      "text/plain": [
       "<Figure size 1200x600 with 1 Axes>"
      ]
     },
     "metadata": {},
     "output_type": "display_data"
    }
   ],
   "source": [
    "from wordcloud import WordCloud\n",
    "import matplotlib.pyplot as plt\n",
    "\n",
    "\n",
    "text = ' '.join(df['cleaned_reviews'])  \n",
    "\n",
    "\n",
    "wordcloud = WordCloud(width=800, height=400, background_color='white').generate(text)\n",
    "word_frequencies = wordcloud.words_\n",
    "\n",
    "\n",
    "word_freq_series = pd.Series(word_frequencies)\n",
    "\n",
    "top_10_words = word_freq_series.head(10)\n",
    "\n",
    "\n",
    "plt.figure(figsize=(12, 6))\n",
    "top_10_words.plot(kind='bar', color='skyblue')\n",
    "plt.xlabel('Words')\n",
    "plt.ylabel('Frequency')\n",
    "plt.title('Top 10 Most Frequent Words')\n",
    "plt.xticks(rotation=45) \n",
    "plt.tight_layout()  \n",
    "plt.show()\n"
   ]
  }
 ],
 "metadata": {
  "kernelspec": {
   "display_name": "Python 3 (ipykernel)",
   "language": "python",
   "name": "python3"
  },
  "language_info": {
   "codemirror_mode": {
    "name": "ipython",
    "version": 3
   },
   "file_extension": ".py",
   "mimetype": "text/x-python",
   "name": "python",
   "nbconvert_exporter": "python",
   "pygments_lexer": "ipython3",
   "version": "3.11.4"
  }
 },
 "nbformat": 4,
 "nbformat_minor": 5
}
